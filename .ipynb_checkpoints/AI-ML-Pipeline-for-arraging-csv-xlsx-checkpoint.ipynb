{
 "cells": [
  {
   "cell_type": "markdown",
   "id": "a20bcaac",
   "metadata": {},
   "source": [
    "# AI-ML-Pipeline-for-arraging-csv-xlsx"
   ]
  },
  {
   "cell_type": "markdown",
   "id": "273c4546",
   "metadata": {},
   "source": [
    "### Author: Mohit Janbandhu"
   ]
  },
  {
   "cell_type": "markdown",
   "id": "9116ddf2",
   "metadata": {},
   "source": [
    "## Purpose: Map formate file into data's schema and export outputdata as CSV or Excel"
   ]
  },
  {
   "cell_type": "code",
   "execution_count": 4,
   "id": "82729139",
   "metadata": {},
   "outputs": [],
   "source": [
    "import io\n",
    "import difflib\n",
    "import numpy as np\n",
    "import pandas as pd\n",
    "import ipywidgets as widgets\n",
    "from IPython.display import display, FileLink"
   ]
  },
  {
   "cell_type": "code",
   "execution_count": 9,
   "id": "d20904d9",
   "metadata": {},
   "outputs": [],
   "source": [
    "\n",
    "# Helpers\n",
    "# -------------------------\n",
    "\n",
    "def align_data(df_schema, df_data):\n",
    "    schema_columns = list(df_schema.columns)\n",
    "    aligned = pd.DataFrame(columns=schema_columns)\n",
    "    mapping = {}\n",
    "    \n",
    "    for col in schema_columns:\n",
    "        match = difflib.get_close_matches(col, df_data.columns, n=1, cutoff=0.6)\n",
    "        if match:\n",
    "            aligned[col] = df_data[match[0]]\n",
    "            mapping[col] = match[0]\n",
    "        else:\n",
    "            aligned[col] = np.nan\n",
    "            mapping[col] = None\n",
    "    return aligned, mapping\n",
    "\n",
    "\n",
    "def preview_and_download(aligned, mapping, fmt):\n",
    "    # Show mapping table\n",
    "    print(\"\\n===== Column Mapping (data1 -> data2) =====\")\n",
    "    for k, v in mapping.items():\n",
    "        print(f\"{k:25s} <-- {v if v else 'None'}\")\n",
    "\n",
    "    # Show preview of aligned data\n",
    "    print(\"\\n===== Preview (first 5 rows) =====\")\n",
    "    display(aligned.head())\n",
    "\n",
    "    # Save output\n",
    "    out_path = \"outputdata.csv\" if fmt == \"CSV\" else \"outputdata.xlsx\"\n",
    "    if fmt == \"CSV\":\n",
    "        aligned.to_csv(out_path, index=False)\n",
    "    else:\n",
    "        aligned.to_excel(out_path, index=False)\n",
    "\n",
    "    # Provide download link\n",
    "    print(f\"\\nFile saved as {out_path}. Click below to download:\")\n",
    "    display(FileLink(out_path))\n",
    "\n",
    "\n",
    "\n"
   ]
  },
  {
   "cell_type": "code",
   "execution_count": 10,
   "id": "20049ac1",
   "metadata": {},
   "outputs": [
    {
     "data": {
      "application/vnd.jupyter.widget-view+json": {
       "model_id": "6ab4d0bfe94d449082bf510b3f1a01aa",
       "version_major": 2,
       "version_minor": 0
      },
      "text/plain": [
       "FileUpload(value={}, accept='.csv,.xlsx,.xls', description='Upload data1')"
      ]
     },
     "metadata": {},
     "output_type": "display_data"
    },
    {
     "data": {
      "application/vnd.jupyter.widget-view+json": {
       "model_id": "44939b4f86e444f3ab97a86063171d4d",
       "version_major": 2,
       "version_minor": 0
      },
      "text/plain": [
       "FileUpload(value={}, accept='.csv,.xlsx,.xls', description='Upload data2')"
      ]
     },
     "metadata": {},
     "output_type": "display_data"
    },
    {
     "data": {
      "application/vnd.jupyter.widget-view+json": {
       "model_id": "eeca5ff98ee3477db7bf709bad2c79bc",
       "version_major": 2,
       "version_minor": 0
      },
      "text/plain": [
       "Dropdown(description='Output', options=('CSV', 'Excel'), value='CSV')"
      ]
     },
     "metadata": {},
     "output_type": "display_data"
    },
    {
     "data": {
      "application/vnd.jupyter.widget-view+json": {
       "model_id": "39103dc5f4114946b4e7eb274b46005b",
       "version_major": 2,
       "version_minor": 0
      },
      "text/plain": [
       "Button(button_style='primary', description='Run Pipeline', style=ButtonStyle())"
      ]
     },
     "metadata": {},
     "output_type": "display_data"
    },
    {
     "data": {
      "application/vnd.jupyter.widget-view+json": {
       "model_id": "675f196e40954c849062001d43176b0d",
       "version_major": 2,
       "version_minor": 0
      },
      "text/plain": [
       "Output()"
      ]
     },
     "metadata": {},
     "output_type": "display_data"
    }
   ],
   "source": [
    "# Jupyter UI\n",
    "\n",
    "fu1 = widgets.FileUpload(accept=\".csv,.xlsx,.xls\", multiple=False, description=\"Upload data1\")\n",
    "fu2 = widgets.FileUpload(accept=\".csv,.xlsx,.xls\", multiple=False, description=\"Upload data2\")\n",
    "fmt = widgets.Dropdown(options=[\"CSV\", \"Excel\"], value=\"CSV\", description=\"Output\")\n",
    "run_btn = widgets.Button(description=\"Run Pipeline\", button_style=\"primary\")\n",
    "out_area = widgets.Output()\n",
    "\n",
    "def on_run_clicked(_):\n",
    "    with out_area:\n",
    "        out_area.clear_output()\n",
    "        if len(fu1.value) == 0 or len(fu2.value) == 0:\n",
    "            print(\"Please upload both files.\")\n",
    "            return\n",
    "        \n",
    "        # Read uploaded files\n",
    "        key1 = list(fu1.value.keys())[0]\n",
    "        key2 = list(fu2.value.keys())[0]\n",
    "        f1 = fu1.value[key1]\n",
    "        f2 = fu2.value[key2]\n",
    "\n",
    "        # Auto-detect format\n",
    "        def read_any(file_bytes, filename):\n",
    "            if filename.lower().endswith(\".csv\"):\n",
    "                return pd.read_csv(io.BytesIO(file_bytes))\n",
    "            else:\n",
    "                return pd.read_excel(io.BytesIO(file_bytes))\n",
    "        \n",
    "        df1 = read_any(f1[\"content\"], key1)\n",
    "        df2 = read_any(f2[\"content\"], key2)\n",
    "\n",
    "        print(\"Files loaded\")\n",
    "        print(f\"data1 (schema) shape: {df1.shape}\")\n",
    "        print(f\"data2 (content) shape: {df2.shape}\")\n",
    "\n",
    "        # Align data\n",
    "        aligned, mapping = align_data(df1, df2)\n",
    "        preview_and_download(aligned, mapping, fmt.value)\n",
    "\n",
    "run_btn.on_click(on_run_clicked)\n",
    "display(fu1, fu2, fmt, run_btn, out_area)"
   ]
  },
  {
   "cell_type": "code",
   "execution_count": null,
   "id": "7aadb0be",
   "metadata": {},
   "outputs": [],
   "source": []
  },
  {
   "cell_type": "code",
   "execution_count": null,
   "id": "4dded5a9",
   "metadata": {},
   "outputs": [],
   "source": []
  },
  {
   "cell_type": "code",
   "execution_count": null,
   "id": "535f38cb",
   "metadata": {},
   "outputs": [],
   "source": []
  },
  {
   "cell_type": "code",
   "execution_count": null,
   "id": "0ad152f3",
   "metadata": {},
   "outputs": [],
   "source": []
  },
  {
   "cell_type": "code",
   "execution_count": null,
   "id": "2e9cf08d",
   "metadata": {},
   "outputs": [],
   "source": []
  },
  {
   "cell_type": "code",
   "execution_count": null,
   "id": "2a35cdfc",
   "metadata": {},
   "outputs": [],
   "source": []
  },
  {
   "cell_type": "code",
   "execution_count": null,
   "id": "2cb93be5",
   "metadata": {},
   "outputs": [],
   "source": []
  },
  {
   "cell_type": "code",
   "execution_count": null,
   "id": "2b9bef25",
   "metadata": {},
   "outputs": [],
   "source": []
  },
  {
   "cell_type": "code",
   "execution_count": null,
   "id": "5cf21806",
   "metadata": {},
   "outputs": [],
   "source": []
  },
  {
   "cell_type": "code",
   "execution_count": 7,
   "id": "1a8e6f79",
   "metadata": {},
   "outputs": [
    {
     "name": "stdout",
     "output_type": "stream",
     "text": [
      "If you see upload widgets below, use them. Otherwise, set file paths in the fallback section.\n"
     ]
    },
    {
     "data": {
      "application/vnd.jupyter.widget-view+json": {
       "model_id": "05885e4ffd614420b3e0b149b47e98e7",
       "version_major": 2,
       "version_minor": 0
      },
      "text/plain": [
       "FileUpload(value={}, accept='.csv,.xlsx,.xls', description='Upload data1')"
      ]
     },
     "metadata": {},
     "output_type": "display_data"
    },
    {
     "data": {
      "application/vnd.jupyter.widget-view+json": {
       "model_id": "8b8833fa31f046b7bd94b8e2fe74c3bf",
       "version_major": 2,
       "version_minor": 0
      },
      "text/plain": [
       "FileUpload(value={}, accept='.csv,.xlsx,.xls', description='Upload data2')"
      ]
     },
     "metadata": {},
     "output_type": "display_data"
    },
    {
     "data": {
      "application/vnd.jupyter.widget-view+json": {
       "model_id": "33d7091bc98b4adcba3f14b542e55e16",
       "version_major": 2,
       "version_minor": 0
      },
      "text/plain": [
       "Dropdown(description='Output', options=('CSV', 'Excel'), value='CSV')"
      ]
     },
     "metadata": {},
     "output_type": "display_data"
    },
    {
     "data": {
      "application/vnd.jupyter.widget-view+json": {
       "model_id": "fae1c1bef9944a45b8195cc3fe692ed4",
       "version_major": 2,
       "version_minor": 0
      },
      "text/plain": [
       "Button(button_style='primary', description='Run Pipeline', style=ButtonStyle())"
      ]
     },
     "metadata": {},
     "output_type": "display_data"
    },
    {
     "data": {
      "application/vnd.jupyter.widget-view+json": {
       "model_id": "3860a0a8fb714f2eaa73a8107e0d2cee",
       "version_major": 2,
       "version_minor": 0
      },
      "text/plain": [
       "Output()"
      ]
     },
     "metadata": {},
     "output_type": "display_data"
    }
   ],
   "source": [
    "print(\"If you see upload widgets below, use them. Otherwise, set file paths in the fallback section.\")\n",
    "\n",
    "upload_data1 = None\n",
    "upload_data2 = None\n",
    "out_format = None\n",
    "\n",
    "if IPYW_AVAILABLE:\n",
    "    fu1 = widgets.FileUpload(accept=\".csv,.xlsx,.xls\", multiple=False, description=\"Upload data1\")\n",
    "    fu2 = widgets.FileUpload(accept=\".csv,.xlsx,.xls\", multiple=False, description=\"Upload data2\")\n",
    "    fmt = widgets.Dropdown(options=[\"CSV\", \"Excel\"], value=\"CSV\", description=\"Output\")\n",
    "    run_btn = widgets.Button(description=\"Run Pipeline\", button_style=\"primary\")\n",
    "    out_area = widgets.Output()\n",
    "\n",
    "    def on_run_clicked(_):\n",
    "        with out_area:\n",
    "            out_area.clear_output()\n",
    "            if len(fu1.value) == 0 or len(fu2.value) == 0:\n",
    "                print(\"Please upload both files.\")\n",
    "                return\n",
    "            # read\n",
    "            key1 = list(fu1.value.keys())[0]\n",
    "            key2 = list(fu2.value.keys())[0]\n",
    "            f1 = fu1.value[key1]\n",
    "            f2 = fu2.value[key2]\n",
    "            df1 = _read_any(f1[\"content\"], key1)\n",
    "            df2 = _read_any(f2[\"content\"], key2)\n",
    "\n",
    "            print(\"Files loaded\")\n",
    "            print(f\"data1 shape: {df1.shape}\")\n",
    "            print(f\"data2 shape: {df2.shape}\")\n",
    "\n",
    "            schema = infer_schema(df1)\n",
    "            mapping = build_column_mapping(list(df1.columns), list(df2.columns), cutoff=0.75)\n",
    "            aligned, rep = align_to_schema(df2, schema, mapping, fill_missing_with=np.nan)\n",
    "\n",
    "            print_report(schema, mapping, rep)\n",
    "\n",
    "            # choose output path in working dir\n",
    "            if fmt.value == \"CSV\":\n",
    "                out_path = \"outputdata.csv\"\n",
    "            else:\n",
    "                out_path = \"outputdata.xlsx\"\n",
    "\n",
    "            abs_path = _write_output(aligned, out_path)\n",
    "            print(f\"\\nOutput written to: {abs_path}\")\n",
    "\n",
    "    run_btn.on_click(on_run_clicked)\n",
    "\n",
    "    display(fu1, fu2, fmt, run_btn, out_area)\n"
   ]
  },
  {
   "cell_type": "code",
   "execution_count": null,
   "id": "fb6ff2b2",
   "metadata": {},
   "outputs": [],
   "source": []
  },
  {
   "cell_type": "code",
   "execution_count": null,
   "id": "7bff8a48",
   "metadata": {},
   "outputs": [],
   "source": []
  },
  {
   "cell_type": "code",
   "execution_count": null,
   "id": "e7268ae9",
   "metadata": {},
   "outputs": [],
   "source": []
  },
  {
   "cell_type": "code",
   "execution_count": null,
   "id": "6e31400b",
   "metadata": {},
   "outputs": [],
   "source": []
  }
 ],
 "metadata": {
  "kernelspec": {
   "display_name": "Python 3 (ipykernel)",
   "language": "python",
   "name": "python3"
  },
  "language_info": {
   "codemirror_mode": {
    "name": "ipython",
    "version": 3
   },
   "file_extension": ".py",
   "mimetype": "text/x-python",
   "name": "python",
   "nbconvert_exporter": "python",
   "pygments_lexer": "ipython3",
   "version": "3.10.9"
  }
 },
 "nbformat": 4,
 "nbformat_minor": 5
}
